{
  "cells": [
    {
      "cell_type": "markdown",
      "metadata": {
        "id": "view-in-github",
        "colab_type": "text"
      },
      "source": [
        "<a href=\"https://colab.research.google.com/github/hasnaa19/Cat-Vs-Dog/blob/main/Sports_Classification.ipynb\" target=\"_parent\"><img src=\"https://colab.research.google.com/assets/colab-badge.svg\" alt=\"Open In Colab\"/></a>"
      ]
    },
    {
      "cell_type": "code",
      "execution_count": null,
      "metadata": {
        "id": "mnOONKz-gH62"
      },
      "outputs": [],
      "source": [
        "import csv\n",
        "from zipfile import ZipFile\n",
        "from google.colab import files\n",
        "\n",
        "import numpy as np\n",
        "import pandas as pd\n",
        "from random import shuffle\n",
        "import matplotlib.pyplot as plt\n",
        "\n",
        "import cv2\n",
        "from PIL import Image\n",
        "\n",
        "import os\n",
        "from tqdm import tqdm\n",
        "\n",
        "\n",
        "!pip install tflearn\n",
        "import tflearn\n",
        "import tensorflow as tf\n",
        "from tensorflow.keras import layers\n",
        "from tensorflow.keras.models import Model\n",
        "from tensorflow.keras.models import Sequential\n",
        "from tensorflow.core.framework.types_pb2 import DataType\n",
        "from keras.preprocessing.image import ImageDataGenerator\n",
        "from tensorflow.keras.utils import load_img, img_to_array\n",
        "from tensorflow.keras.layers import Conv2D,MaxPooling2D,Dense,Flatten,Dropout"
      ]
    },
    {
      "cell_type": "code",
      "execution_count": null,
      "metadata": {
        "id": "Yk0nqfyXaTIa",
        "colab": {
          "base_uri": "https://localhost:8080/"
        },
        "outputId": "5048daef-0902-4700-8da1-59587200c4ef"
      },
      "outputs": [
        {
          "output_type": "stream",
          "name": "stdout",
          "text": [
            "Mounted at /content/drive\n"
          ]
        }
      ],
      "source": [
        "from google.colab import drive\n",
        "drive.mount('/content/drive', force_remount=True)"
      ]
    },
    {
      "cell_type": "code",
      "execution_count": null,
      "metadata": {
        "id": "C7RHOIyans4p"
      },
      "outputs": [],
      "source": [
        " def PrepareDirectories():\n",
        "    Parent = \"/content/drive/MyDrive\"\n",
        "    SubParent = os.path.join(Parent, '/NN_Project')\n",
        "    os.mkdir(SubParent)\n",
        "\n",
        "    with ZipFile(r\"/content/drive/MyDrive/NN_Project/NN Dataset.zip\", 'r') as zO:\n",
        "      zO.extractall(SubParent)\n",
        "      zO.close()\n",
        "\n",
        "    Train = os.path.join(SubParent, 'Train')\n",
        "    Test = os.path.join(SubParent, 'Test')\n",
        "\n",
        "    return Train, Test, SubParent\n"
      ]
    },
    {
      "cell_type": "code",
      "execution_count": null,
      "metadata": {
        "id": "mW7CNo4O6jz2",
        "colab": {
          "base_uri": "https://localhost:8080/",
          "height": 287
        },
        "outputId": "3deda6d0-5575-4037-87ec-b19ca9958ede"
      },
      "outputs": [
        {
          "output_type": "error",
          "ename": "FileExistsError",
          "evalue": "ignored",
          "traceback": [
            "\u001b[0;31m---------------------------------------------------------------------------\u001b[0m",
            "\u001b[0;31mFileExistsError\u001b[0m                           Traceback (most recent call last)",
            "\u001b[0;32m<ipython-input-53-a914c968774d>\u001b[0m in \u001b[0;36m<module>\u001b[0;34m\u001b[0m\n\u001b[0;32m----> 1\u001b[0;31m \u001b[0mTrain\u001b[0m\u001b[0;34m,\u001b[0m \u001b[0mTest\u001b[0m\u001b[0;34m,\u001b[0m \u001b[0mFolder\u001b[0m \u001b[0;34m=\u001b[0m \u001b[0mPrepareDirectories\u001b[0m\u001b[0;34m(\u001b[0m\u001b[0;34m)\u001b[0m\u001b[0;34m\u001b[0m\u001b[0;34m\u001b[0m\u001b[0m\n\u001b[0m",
            "\u001b[0;32m<ipython-input-52-23530f22f64f>\u001b[0m in \u001b[0;36mPrepareDirectories\u001b[0;34m()\u001b[0m\n\u001b[1;32m      2\u001b[0m     \u001b[0mParent\u001b[0m \u001b[0;34m=\u001b[0m \u001b[0;34m\"/content/drive/MyDrive\"\u001b[0m\u001b[0;34m\u001b[0m\u001b[0;34m\u001b[0m\u001b[0m\n\u001b[1;32m      3\u001b[0m     \u001b[0mSubParent\u001b[0m \u001b[0;34m=\u001b[0m \u001b[0mos\u001b[0m\u001b[0;34m.\u001b[0m\u001b[0mpath\u001b[0m\u001b[0;34m.\u001b[0m\u001b[0mjoin\u001b[0m\u001b[0;34m(\u001b[0m\u001b[0mParent\u001b[0m\u001b[0;34m,\u001b[0m \u001b[0;34m'/NN_Project'\u001b[0m\u001b[0;34m)\u001b[0m\u001b[0;34m\u001b[0m\u001b[0;34m\u001b[0m\u001b[0m\n\u001b[0;32m----> 4\u001b[0;31m     \u001b[0mos\u001b[0m\u001b[0;34m.\u001b[0m\u001b[0mmkdir\u001b[0m\u001b[0;34m(\u001b[0m\u001b[0mSubParent\u001b[0m\u001b[0;34m)\u001b[0m\u001b[0;34m\u001b[0m\u001b[0;34m\u001b[0m\u001b[0m\n\u001b[0m\u001b[1;32m      5\u001b[0m \u001b[0;34m\u001b[0m\u001b[0m\n\u001b[1;32m      6\u001b[0m     \u001b[0;32mwith\u001b[0m \u001b[0mZipFile\u001b[0m\u001b[0;34m(\u001b[0m\u001b[0;34mr\"/content/drive/MyDrive/NN_Project/NN Dataset.zip\"\u001b[0m\u001b[0;34m,\u001b[0m \u001b[0;34m'r'\u001b[0m\u001b[0;34m)\u001b[0m \u001b[0;32mas\u001b[0m \u001b[0mzO\u001b[0m\u001b[0;34m:\u001b[0m\u001b[0;34m\u001b[0m\u001b[0;34m\u001b[0m\u001b[0m\n",
            "\u001b[0;31mFileExistsError\u001b[0m: [Errno 17] File exists: '/NN_Project'"
          ]
        }
      ],
      "source": [
        "Train, Test, Folder = PrepareDirectories()"
      ]
    },
    {
      "cell_type": "code",
      "execution_count": null,
      "metadata": {
        "id": "AP6Qxz8MHSij"
      },
      "outputs": [],
      "source": [
        "Train = \"/content/drive/MyDrive/NN_Project/Train\"\n",
        "Test = \"/content/drive/MyDrive/NN_Project/Test\"\n",
        "Folder = \"/content/drive/MyDrive/NN_Project\"\n",
        "ImgSize = 224\n",
        "Classes = [\"Basketball\", \"Football\", \"Rowing\", \"Swimming\", \"Tennis\", \"Yoga\"]"
      ]
    },
    {
      "cell_type": "code",
      "execution_count": null,
      "metadata": {
        "id": "ulY6D-VFVZif"
      },
      "outputs": [],
      "source": [
        "def ConvertJPG(T, img):\n",
        "  Path = os.path.join(T, img)\n",
        "  i = img.split('.')\n",
        "  Format = i[-1]\n",
        "  ImageName = i[0]\n",
        "  if Format == \"png\":\n",
        "    converted = Image.open(Path).convert('RGB')\n",
        "    newPath = os.path.join(T, ImageName + \".jpg\")\n",
        "    converted.save(newPath)\n",
        "    os.remove(Path)  # To remove png file\n",
        "    return newPath\n",
        "  else:\n",
        "    return Path"
      ]
    },
    {
      "cell_type": "code",
      "execution_count": null,
      "metadata": {
        "id": "XrnRoStcUw2P"
      },
      "outputs": [],
      "source": [
        "def Label(img):\n",
        "  l = img.split('_')\n",
        "  index = Classes.index(l[0])\n",
        "  Label = np.zeros(6)\n",
        "  Label[index] = 1\n",
        "  return Label"
      ]
    },
    {
      "cell_type": "code",
      "execution_count": null,
      "metadata": {
        "id": "PY55W8v0Op_z"
      },
      "outputs": [],
      "source": [
        "trainAug = ImageDataGenerator(\n",
        "rescale= 1./ 255,\n",
        "rotation_range = 40,\n",
        "horizontal_flip=True,\n",
        "fill_mode='nearest')\n",
        "\n",
        "for img in tqdm(os.listdir(Train)):\n",
        "  i = img.split('_')\n",
        "  if(len(i) == 2):\n",
        "    path = ConvertJPG(Train,img)\n",
        "    imgName = i[0]\n",
        "    aug = load_img(path)\n",
        "    aug_array = img_to_array(aug)\n",
        "    aug_array = aug_array.reshape((1,) + aug_array.shape)\n",
        "\n",
        "    count = 4\n",
        "    for batch in trainAug.flow(aug_array, batch_size = 1, save_to_dir= Train , save_prefix= imgName + \"_Augmented\" , save_format = 'jpg'):\n",
        "      count -=1\n",
        "\n",
        "      if count == 0:\n",
        "        break"
      ]
    },
    {
      "cell_type": "code",
      "execution_count": null,
      "metadata": {
        "id": "zeDFq5i7w7U9"
      },
      "outputs": [],
      "source": [
        "def Normalization(image):\n",
        "    norm = np.zeros((ImgSize, ImgSize))\n",
        "    norm_image = cv2.normalize(image,norm,0,255,cv2.NORM_MINMAX)\n",
        "    return norm_image"
      ]
    },
    {
      "cell_type": "code",
      "execution_count": null,
      "metadata": {
        "id": "UWiSl4-kJnmP"
      },
      "outputs": [],
      "source": [
        "def testShuffle(training):\n",
        "  for s in training[:10]:\n",
        "    print(s[1])"
      ]
    },
    {
      "cell_type": "code",
      "execution_count": null,
      "metadata": {
        "id": "ezso1z_pJsdE"
      },
      "outputs": [],
      "source": [
        "def Create_TrainingData():\n",
        "  training  = []\n",
        "  for img in tqdm(os.listdir(Train)):\n",
        "    path = os.path.join(Train,img)\n",
        "    try:\n",
        "      image = cv2.imread(path, cv2.IMREAD_COLOR)\n",
        "      image = cv2.resize(image, (ImgSize, ImgSize))\n",
        "      image = Normalization(image)\n",
        "      img_array = np.array(image)\n",
        "      training.append([img_array, Label(img)])\n",
        "    except Exception as e:\n",
        "      print(e)\n",
        "      pass\n",
        "\n",
        "  shuffle(training)\n",
        "  np.save(os.path.join(Folder, 'train_data.npy'), training) # To be saved in the folder created for project\n",
        "  return training"
      ]
    },
    {
      "cell_type": "code",
      "execution_count": null,
      "metadata": {
        "id": "d5YKYArGNN5H"
      },
      "outputs": [],
      "source": [
        "def Create_TestData():\n",
        "  testing  = []\n",
        "  for img in tqdm(os.listdir(Test)):\n",
        "    path = os.path.join(Test,img)\n",
        "    try:\n",
        "      image= cv2.imread(path, cv2.IMREAD_COLOR)\n",
        "      image = cv2.resize(image, (ImgSize, ImgSize))\n",
        "      image = Normalization(image)\n",
        "      img_array = np.array(image)\n",
        "      testing.append([img_array, img])\n",
        "    except Exception as e:\n",
        "          print(e)\n",
        "          pass\n",
        "  np.save(os.path.join(Folder, 'test_data.npy'), testing)\n",
        "  return testing"
      ]
    },
    {
      "cell_type": "code",
      "execution_count": null,
      "metadata": {
        "colab": {
          "base_uri": "https://localhost:8080/"
        },
        "id": "eoYYxPIYOMOI",
        "outputId": "88512abf-8a93-49e3-ed23-1be9383d256a"
      },
      "outputs": [
        {
          "name": "stderr",
          "output_type": "stream",
          "text": [
            "100%|██████████| 7985/7985 [01:07<00:00, 118.06it/s]\n",
            "100%|██████████| 688/688 [00:12<00:00, 53.64it/s]\n"
          ]
        },
        {
          "name": "stdout",
          "output_type": "stream",
          "text": [
            "7985\n",
            "688\n"
          ]
        }
      ],
      "source": [
        "if (os.path.exists('train_data.npy')):\n",
        "    train_data = np.load('train_data.npy', allow_pickle=True) # Boolean value that allows or disallows saving the array using Python pickles.\n",
        "else:\n",
        "    train_data = Create_TrainingData()\n",
        "\n",
        "if (os.path.exists('test_data.npy')):\n",
        "    test_data =np.load('test_data.npy',allow_pickle=True)\n",
        "else:\n",
        "    test_data = Create_TestData()\n",
        "\n",
        "print(len(train_data))\n",
        "print(len(test_data))\n"
      ]
    },
    {
      "cell_type": "code",
      "execution_count": null,
      "metadata": {
        "colab": {
          "base_uri": "https://localhost:8080/"
        },
        "id": "0B1mdmn4RlRx",
        "outputId": "21d25bfc-8b43-4400-badd-99f484183827"
      },
      "outputs": [
        {
          "name": "stdout",
          "output_type": "stream",
          "text": [
            "(7985, 224, 224, 3)\n",
            "(688, 224, 224, 3)\n"
          ]
        }
      ],
      "source": [
        "def split_test_train(train, test):\n",
        "    imgNames = []\n",
        "\n",
        "    X_train = np.array([i[0] for i in train]).reshape(-1, ImgSize, ImgSize, 3)\n",
        "    Y_train =np.array([i[1] for i in train])\n",
        "\n",
        "    X_test = np.array([i[0] for i in test]).reshape(-1, ImgSize, ImgSize, 3)\n",
        "    imgNames = np.array([i[1] for i in test])\n",
        "    return X_train, Y_train, X_test, imgNames\n",
        "\n",
        "X_train, Y_train, X_test, imgNames = split_test_train(train_data, test_data)\n",
        "print(X_train.shape)\n",
        "print(X_test.shape)"
      ]
    },
    {
      "cell_type": "code",
      "execution_count": null,
      "metadata": {
        "colab": {
          "base_uri": "https://localhost:8080/",
          "height": 772
        },
        "id": "bs7rzVmSRroi",
        "outputId": "8a4d475a-5fbd-4d18-9efe-ec60940526ef"
      },
      "outputs": [
        {
          "output_type": "stream",
          "name": "stdout",
          "text": [
            "Model: \"sequential_4\"\n",
            "_________________________________________________________________\n",
            " Layer (type)                Output Shape              Param #   \n",
            "=================================================================\n",
            " conv2d_14 (Conv2D)          (None, 220, 220, 32)      2432      \n",
            "                                                                 \n",
            " max_pooling2d_12 (MaxPoolin  (None, 36, 36, 32)       0         \n",
            " g2D)                                                            \n",
            "                                                                 \n",
            " conv2d_15 (Conv2D)          (None, 32, 32, 16)        12816     \n",
            "                                                                 \n",
            " max_pooling2d_13 (MaxPoolin  (None, 6, 6, 16)         0         \n",
            " g2D)                                                            \n",
            "                                                                 \n",
            " conv2d_16 (Conv2D)          (None, 2, 2, 120)         48120     \n",
            "                                                                 \n",
            " max_pooling2d_14 (MaxPoolin  (None, 1, 1, 120)        0         \n",
            " g2D)                                                            \n",
            "                                                                 \n",
            " flatten_4 (Flatten)         (None, 120)               0         \n",
            "                                                                 \n",
            " dense_10 (Dense)            (None, 84)                10164     \n",
            "                                                                 \n",
            " dropout_6 (Dropout)         (None, 84)                0         \n",
            "                                                                 \n",
            " dense_11 (Dense)            (None, 6)                 510       \n",
            "                                                                 \n",
            "=================================================================\n",
            "Total params: 74,042\n",
            "Trainable params: 74,042\n",
            "Non-trainable params: 0\n",
            "_________________________________________________________________\n"
          ]
        },
        {
          "output_type": "error",
          "ename": "NameError",
          "evalue": "ignored",
          "traceback": [
            "\u001b[0;31m---------------------------------------------------------------------------\u001b[0m",
            "\u001b[0;31mNameError\u001b[0m                                 Traceback (most recent call last)",
            "\u001b[0;32m<ipython-input-23-174e362ca590>\u001b[0m in \u001b[0;36m<module>\u001b[0;34m\u001b[0m\n\u001b[1;32m     26\u001b[0m \u001b[0;32melse\u001b[0m\u001b[0;34m:\u001b[0m\u001b[0;34m\u001b[0m\u001b[0;34m\u001b[0m\u001b[0m\n\u001b[1;32m     27\u001b[0m     LeNet.fit({'input': X_train}, {'targets': Y_train}, n_epoch=50, #input, target, n_epochs are mandatory\n\u001b[0;32m---> 28\u001b[0;31m               snapshot_step=500, show_metric=True, run_id=MODEL_NAME)\n\u001b[0m\u001b[1;32m     29\u001b[0m     \u001b[0mLeNet\u001b[0m\u001b[0;34m.\u001b[0m\u001b[0msave\u001b[0m\u001b[0;34m(\u001b[0m\u001b[0;34m'LeNet_model.tf1'\u001b[0m\u001b[0;34m)\u001b[0m\u001b[0;34m\u001b[0m\u001b[0;34m\u001b[0m\u001b[0m\n",
            "\u001b[0;31mNameError\u001b[0m: name 'MODEL_NAME' is not defined"
          ]
        }
      ],
      "source": [
        "def LeNet():\n",
        "    model=Sequential()\n",
        "    model.add(Conv2D(filters=32,kernel_size=(5,5),activation=\"tanh\",input_shape=(ImgSize,ImgSize,3)))\n",
        "    model.add(MaxPooling2D(pool_size=(6,6)))\n",
        "\n",
        "    model.add(Conv2D(filters=16,kernel_size=(5,5),activation=\"tanh\"))\n",
        "    model.add(MaxPooling2D(pool_size=(5,5)))\n",
        "\n",
        "    model.add(Conv2D(filters=120,kernel_size=(5,5),activation=\"tanh\"))\n",
        "    model.add(MaxPooling2D(pool_size=(2,2)))\n",
        "\n",
        "    model.add(Flatten())\n",
        "    model.add(Dense(84,activation=\"tanh\"))\n",
        "    model.add(Dropout(rate=0.3))\n",
        "\n",
        "    model.add(Dense(6,activation=\"softmax\"))\n",
        "    return model\n",
        "\n",
        "LeNet = LeNet()\n",
        "LeNet.summary()\n",
        "LeNet.compile(optimizer='adamax',loss = 'categorical_crossentropy',metrics=['accuracy'])\n",
        "#LeNet.fit(X_train,Y_train, epochs=50)\n",
        "\n",
        "if (os.path.exists('LeNet_model.tfl.meta')):\n",
        "    LeNet.load('./LeNet_model.tfl')\n",
        "else:\n",
        "    LeNet.fit({'input': X_train}, {'targets': Y_train}, n_epoch=50, #input, target, n_epochs are mandatory\n",
        "              snapshot_step=500, show_metric=True, run_id=MODEL_NAME)\n",
        "    LeNet.save('LeNet_model.tf1')"
      ]
    },
    {
      "cell_type": "code",
      "execution_count": null,
      "metadata": {
        "id": "qp5wMLEySIwR"
      },
      "outputs": [],
      "source": [
        "prediction = LeNet.predict(X_test)\n",
        "classified = np.argmax(prediction, axis = 1)\n",
        "print(classified)\n",
        "\n",
        "df = pd.DataFrame({\"image_name\": imgNames, \"label\": classified})\n",
        "df.to_csv(\"LeNet.csv\", index=False)\n",
        "files.download(\"LeNet.csv\")\n",
        "\n",
        "LeNet.save_weights(\"LeNet.h5\")"
      ]
    },
    {
      "cell_type": "code",
      "execution_count": null,
      "metadata": {
        "id": "cEz4iq9CUMFp"
      },
      "outputs": [],
      "source": [
        "def CNN16():\n",
        "    model=Sequential()\n",
        "    model.add(Conv2D(filters=16,kernel_size=(3,3),activation=\"relu\",input_shape=(ImgSize,ImgSize,3)))\n",
        "    model.add(Conv2D(filters=32,kernel_size=(3,3),activation=\"relu\"))\n",
        "    model.add(MaxPooling2D(pool_size=(2,2)))\n",
        "\n",
        "    model.add(Conv2D(filters=64,kernel_size=(3,3),activation=\"relu\"))\n",
        "    model.add(MaxPooling2D(pool_size=(2,2)))\n",
        "\n",
        "    model.add(Conv2D(filters=64,kernel_size=(3,3),activation=\"relu\"))\n",
        "    model.add(MaxPooling2D(pool_size=(2,2)))\n",
        "    model.add(Dropout(rate=0.5))\n",
        "    model.add(Flatten())\n",
        "\n",
        "    model.add(Dense(32,activation=\"relu\"))\n",
        "    model.add(Dropout(rate=0.3))\n",
        "    model.add(Dense(32,activation=\"relu\"))\n",
        "    model.add(Dense(6,activation=\"softmax\"))\n",
        "    return model\n",
        "\n",
        "CNN16 = CNN16()\n",
        "CNN16.compile(optimizer='adamax',loss = 'categorical_crossentropy',metrics=['accuracy'])\n",
        "#CNN16.fit(X_train,Y_train, epochs=50)\n",
        "\n",
        "if (os.path.exists('CNN16_model.tfl.meta')):\n",
        "    CNN16.load('./CNN16_model.tfl')\n",
        "else:\n",
        "    CNN16.fit({'input': X_train}, {'targets': Y_train}, n_epoch=50, #input, target, n_epochs are mandatory\n",
        "              snapshot_step=500, show_metric=True, run_id=MODEL_NAME)\n",
        "    CNN16.save('CNN16_model.tf1')"
      ]
    },
    {
      "cell_type": "code",
      "execution_count": null,
      "metadata": {
        "id": "j9dHMXlLUp2k"
      },
      "outputs": [],
      "source": [
        "prediction = CNN16.predict(X_test)\n",
        "classified = np.argmax(prediction, axis = 1)\n",
        "print(classified)\n",
        "\n",
        "df = pd.DataFrame({\"image_name\": imgNames, \"label\": classified})\n",
        "df.to_csv(\"CNN16.csv\", index=False)\n",
        "files.download(\"CNN16.csv\")\n",
        "\n",
        "CNN16.save_weights(\"CNN16.h5\")"
      ]
    },
    {
      "cell_type": "code",
      "execution_count": null,
      "metadata": {
        "id": "hDs0xvQ7VIJR"
      },
      "outputs": [],
      "source": [
        "def AlexNet():\n",
        "  inp = layers.Input((ImgSize, ImgSize, 3))\n",
        "  x = layers.Conv2D(96, 11, 4, activation='relu')(inp)\n",
        "  x = layers.BatchNormalization()(x)\n",
        "  x = layers.MaxPooling2D(3, 2)(x)\n",
        "  x = layers.Conv2D(256, 5, 1, activation='relu')(x)\n",
        "  x = layers.BatchNormalization()(x)\n",
        "  x = layers.MaxPooling2D(3, 2)(x)\n",
        "  x = layers.Conv2D(384, 3, 1, activation='relu')(x)\n",
        "  x = layers.Conv2D(384, 3, 1, activation='relu')(x)\n",
        "  x = layers.Conv2D(256, 3, 1, activation='relu')(x)\n",
        "  x = layers.MaxPooling2D(3, 2)(x)\n",
        "  x = layers.Flatten()(x)\n",
        "  x = layers.Dense(4096, activation='relu')(x)\n",
        "  x = layers.Dropout(0.5)(x)\n",
        "  x = layers.Dense(4096, activation='relu')(x)\n",
        "  x = layers.Dropout(0.5)(x)\n",
        "  x = layers.Dense(6, activation='sigmoid')(x)\n",
        "\n",
        "  model = Model(inputs=inp, outputs=x)\n",
        "  return model\n",
        "\n",
        "AlexNet = AlexNet()\n",
        "AlexNet.compile(optimizer='adamax',loss = 'categorical_crossentropy',metrics=['accuracy'])\n",
        "#AlexNet.fit(X_train,Y_train, epochs=50)\n",
        "\n",
        "if (os.path.exists('AlexNet_model.tfl.meta')):\n",
        "    AlexNet.load('./AlexNet_model.tfl')\n",
        "else:\n",
        "    AlexNet.fit({'input': X_train}, {'targets': Y_train}, n_epoch=50, #input, target, n_epochs are mandatory\n",
        "              snapshot_step=500, show_metric=True, run_id=MODEL_NAME)\n",
        "    AlexNet.save('AlexNet_model.tf1')"
      ]
    },
    {
      "cell_type": "code",
      "execution_count": null,
      "metadata": {
        "id": "zSfRpT-gVyXG"
      },
      "outputs": [],
      "source": [
        "prediction = AlexNet.predict(X_test)\n",
        "classified = np.argmax(prediction, axis = 1)\n",
        "print(classified)\n",
        "\n",
        "df = pd.DataFrame({\"image_name\": imgNames, \"label\": classified})\n",
        "df.to_csv(\"AlexNet.csv\", index=False)\n",
        "files.download(\"AlexNet.csv\")\n",
        "\n",
        "AlexNet.save_weights(\"CNN16.h5\")"
      ]
    },
    {
      "cell_type": "code",
      "execution_count": null,
      "metadata": {
        "id": "KMdZWMM5V7Cw"
      },
      "outputs": [],
      "source": [
        "def CNN32():\n",
        "    model = tf.keras.Sequential([\n",
        "    tf.keras.layers.Conv2D(32,(3,3), activation='relu', input_shape=(ImgSize, ImgSize, 3)),\n",
        "    tf.keras.layers.MaxPooling2D(2,2),\n",
        "\n",
        "    tf.keras.layers.Conv2D(32,(3,3), activation='relu'),\n",
        "    tf.keras.layers.MaxPooling2D(2,2),\n",
        "\n",
        "    tf.keras.layers.Conv2D(32,(3,3), activation='relu'),\n",
        "    tf.keras.layers.MaxPooling2D(2,2),\n",
        "\n",
        "    tf.keras.layers.Conv2D(32,(3,3), activation='relu'),\n",
        "    tf.keras.layers.MaxPooling2D(2,2),\n",
        "\n",
        "    tf.keras.layers.Conv2D(32,(3,3), activation='relu'),\n",
        "    tf.keras.layers.MaxPooling2D(2,2),\n",
        "\n",
        "    tf.keras.layers.Conv2D(32,(3,3), activation='relu'),\n",
        "    tf.keras.layers.MaxPooling2D(2,2),\n",
        "\n",
        "    tf.keras.layers.Dropout(rate=0.3),\n",
        "\n",
        "    tf.keras.layers.Flatten(),\n",
        "    tf.keras.layers.Dense(6, tf.nn.softmax)\n",
        "    ])\n",
        "    return model\n",
        "\n",
        "CNN32 = CNN32()\n",
        "CNN32.summary()\n",
        "CNN32.compile(optimizer='adamax',loss = 'categorical_crossentropy',metrics=['accuracy'])\n",
        "#CNN32.fit(X_train,Y_train, epochs=100)\n",
        "\n",
        "if (os.path.exists('CNN32_model.tfl.meta')):\n",
        "    CNN32.load('./CNN32_model.tfl')\n",
        "else:\n",
        "    CNN32.fit({'input': X_train}, {'targets': Y_train}, n_epoch=50, #input, target, n_epochs are mandatory\n",
        "              snapshot_step=500, show_metric=True, run_id=MODEL_NAME)\n",
        "    CNN32.save('CNN32_model.tf1')"
      ]
    },
    {
      "cell_type": "code",
      "execution_count": null,
      "metadata": {
        "id": "6yek2iLCXo20"
      },
      "outputs": [],
      "source": [
        "prediction = CNN32.predict(X_test)\n",
        "classified = np.argmax(prediction, axis = 1)\n",
        "print(classified)\n",
        "\n",
        "df = pd.DataFrame({\"image_name\": imgNames, \"label\": classified})\n",
        "df.to_csv(\"CNN32.csv\", index=False)\n",
        "files.download(\"CNN32.csv\")\n",
        "\n",
        "CNN32.save_weights(\"CNN32.h5\")"
      ]
    },
    {
      "cell_type": "code",
      "execution_count": null,
      "metadata": {
        "id": "dySJEOvSZm5J"
      },
      "outputs": [],
      "source": [
        "def LeNet_Testing():\n",
        "  LeNet.load_weights(\"LeNet.h5\")\n",
        "  LeNet.compile(optimizer='adamax',loss = 'categorical_crossentropy',metrics=['accuracy'])\n",
        "  LeNet.fit(X_train,Y_train, epochs=100)\n",
        "\n",
        "def CNN16_Testing():\n",
        "  CNN16.load_weights(\"CNN16.h5\")\n",
        "  CNN16.compile(optimizer='adamax',loss = 'categorical_crossentropy',metrics=['accuracy'])\n",
        "  CNN16.fit(X_train,Y_train, epochs=100)\n",
        "\n",
        "def AlexNet_Testing():\n",
        "  AlexNet.save_weights(\"AlexNet.h5\")\n",
        "  AlexNet.compile(optimizer='adamax',loss = 'categorical_crossentropy',metrics=['accuracy'])\n",
        "  AlexNet.fit(X_train,Y_train, epochs=100)\n",
        "\n",
        "def CNN32_Testing():\n",
        "  CNN32.load_weights(\"CNN32.h5\")\n",
        "  CNN32.compile(optimizer='adamax',loss = 'categorical_crossentropy',metrics=['accuracy'])\n",
        "  CNN32.fit(X_train,Y_train, epochs=100)\n",
        "\n",
        "CNN16_Testing()\n",
        "# LeNet_Testing()\n",
        "# AlexNet_Testing()\n",
        "# CNN32_Testing()"
      ]
    }
  ],
  "metadata": {
    "accelerator": "GPU",
    "colab": {
      "provenance": [],
      "include_colab_link": true
    },
    "gpuClass": "standard",
    "kernelspec": {
      "display_name": "Python 3",
      "name": "python3"
    },
    "language_info": {
      "name": "python"
    }
  },
  "nbformat": 4,
  "nbformat_minor": 0
}